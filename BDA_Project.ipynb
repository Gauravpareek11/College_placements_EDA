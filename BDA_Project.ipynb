{
  "nbformat": 4,
  "nbformat_minor": 0,
  "metadata": {
    "colab": {
      "name": "BDA_Project.ipynb",
      "provenance": [],
      "collapsed_sections": [
        "0Bej7O9fRMfq",
        "5Flu-zxRSa73",
        "YOmoE6A8UHso",
        "jALHNdWRUtey",
        "EAPhxe_JVwiM",
        "3VLzuv-mYM-1",
        "zUuOxQAcY3CG",
        "D_rX5rC1ZeRb",
        "s5TNEN8lavVd",
        "lLDI3IT6bhou",
        "YV4eqk-QcA75",
        "JiGBrwtSc0Sy",
        "5z_HQVq7eBf4",
        "aq7rW7pEfAJx",
        "uEqWGnPJgOBd",
        "wVP_5UgpmJKN",
        "tz-mrD8mmsSn"
      ],
      "mount_file_id": "12kiDvJqUsqdMm3FVeSPrlyjXIBS8PnA4",
      "authorship_tag": "ABX9TyM40ZY2ZKe6iUaz1Q/Koyav"
    },
    "kernelspec": {
      "name": "python3",
      "display_name": "Python 3"
    },
    "language_info": {
      "name": "python"
    }
  },
  "cells": [
    {
      "cell_type": "markdown",
      "metadata": {
        "id": "0Bej7O9fRMfq"
      },
      "source": [
        "# IMPORTING REQUIRED LIBRARIES"
      ]
    },
    {
      "cell_type": "code",
      "metadata": {
        "id": "DsKtugnNQ3nn"
      },
      "source": [
        "import numpy as np\n",
        "import pandas as pd\n",
        "import seaborn as sns\n",
        "import matplotlib.pyplot as plt "
      ],
      "execution_count": 1,
      "outputs": []
    },
    {
      "cell_type": "markdown",
      "metadata": {
        "id": "P5afFChoRh05"
      },
      "source": [
        "# DATA PREPROCESSING"
      ]
    },
    {
      "cell_type": "code",
      "metadata": {
        "colab": {
          "base_uri": "https://localhost:8080/",
          "height": 204
        },
        "id": "Vyt3V9RxRaoz",
        "outputId": "20827a79-cf58-4e3c-f64e-cd6e01f04575"
      },
      "source": [
        "cp = pd.read_csv('/content/drive/MyDrive/Colab Notebooks/collegePlace.csv')\n",
        "cp.head()"
      ],
      "execution_count": 2,
      "outputs": [
        {
          "output_type": "execute_result",
          "data": {
            "text/html": [
              "<div>\n",
              "<style scoped>\n",
              "    .dataframe tbody tr th:only-of-type {\n",
              "        vertical-align: middle;\n",
              "    }\n",
              "\n",
              "    .dataframe tbody tr th {\n",
              "        vertical-align: top;\n",
              "    }\n",
              "\n",
              "    .dataframe thead th {\n",
              "        text-align: right;\n",
              "    }\n",
              "</style>\n",
              "<table border=\"1\" class=\"dataframe\">\n",
              "  <thead>\n",
              "    <tr style=\"text-align: right;\">\n",
              "      <th></th>\n",
              "      <th>Age</th>\n",
              "      <th>Gender</th>\n",
              "      <th>Stream</th>\n",
              "      <th>Internships</th>\n",
              "      <th>CGPA</th>\n",
              "      <th>Hostel</th>\n",
              "      <th>HistoryOfBacklogs</th>\n",
              "      <th>PlacedOrNot</th>\n",
              "    </tr>\n",
              "  </thead>\n",
              "  <tbody>\n",
              "    <tr>\n",
              "      <th>0</th>\n",
              "      <td>22</td>\n",
              "      <td>Male</td>\n",
              "      <td>Electronics And Communication</td>\n",
              "      <td>1</td>\n",
              "      <td>8</td>\n",
              "      <td>1</td>\n",
              "      <td>1</td>\n",
              "      <td>1</td>\n",
              "    </tr>\n",
              "    <tr>\n",
              "      <th>1</th>\n",
              "      <td>21</td>\n",
              "      <td>Female</td>\n",
              "      <td>Computer Science</td>\n",
              "      <td>0</td>\n",
              "      <td>7</td>\n",
              "      <td>1</td>\n",
              "      <td>1</td>\n",
              "      <td>1</td>\n",
              "    </tr>\n",
              "    <tr>\n",
              "      <th>2</th>\n",
              "      <td>22</td>\n",
              "      <td>Female</td>\n",
              "      <td>Information Technology</td>\n",
              "      <td>1</td>\n",
              "      <td>6</td>\n",
              "      <td>0</td>\n",
              "      <td>0</td>\n",
              "      <td>1</td>\n",
              "    </tr>\n",
              "    <tr>\n",
              "      <th>3</th>\n",
              "      <td>21</td>\n",
              "      <td>Male</td>\n",
              "      <td>Information Technology</td>\n",
              "      <td>0</td>\n",
              "      <td>8</td>\n",
              "      <td>0</td>\n",
              "      <td>1</td>\n",
              "      <td>1</td>\n",
              "    </tr>\n",
              "    <tr>\n",
              "      <th>4</th>\n",
              "      <td>22</td>\n",
              "      <td>Male</td>\n",
              "      <td>Mechanical</td>\n",
              "      <td>0</td>\n",
              "      <td>8</td>\n",
              "      <td>1</td>\n",
              "      <td>0</td>\n",
              "      <td>1</td>\n",
              "    </tr>\n",
              "  </tbody>\n",
              "</table>\n",
              "</div>"
            ],
            "text/plain": [
              "   Age  Gender  ... HistoryOfBacklogs  PlacedOrNot\n",
              "0   22    Male  ...                 1            1\n",
              "1   21  Female  ...                 1            1\n",
              "2   22  Female  ...                 0            1\n",
              "3   21    Male  ...                 1            1\n",
              "4   22    Male  ...                 0            1\n",
              "\n",
              "[5 rows x 8 columns]"
            ]
          },
          "metadata": {},
          "execution_count": 2
        }
      ]
    },
    {
      "cell_type": "code",
      "metadata": {
        "colab": {
          "base_uri": "https://localhost:8080/"
        },
        "id": "Qt1PjirZRywK",
        "outputId": "17541e03-d586-4b83-8549-5a5a261d810c"
      },
      "source": [
        "print(cp.shape,\"values\")\n",
        "print(f\"So our dataset has {cp.shape[0]} rows and {cp.shape[1]} columns.\")"
      ],
      "execution_count": 3,
      "outputs": [
        {
          "output_type": "stream",
          "name": "stdout",
          "text": [
            "(2966, 8) values\n",
            "So our dataset has 2966 rows and 8 columns.\n"
          ]
        }
      ]
    },
    {
      "cell_type": "code",
      "metadata": {
        "colab": {
          "base_uri": "https://localhost:8080/"
        },
        "id": "cI81P2vwR2pl",
        "outputId": "1d08fe74-e6f0-45ea-cb17-735f62509cef"
      },
      "source": [
        "cp.info()"
      ],
      "execution_count": 4,
      "outputs": [
        {
          "output_type": "stream",
          "name": "stdout",
          "text": [
            "<class 'pandas.core.frame.DataFrame'>\n",
            "RangeIndex: 2966 entries, 0 to 2965\n",
            "Data columns (total 8 columns):\n",
            " #   Column             Non-Null Count  Dtype \n",
            "---  ------             --------------  ----- \n",
            " 0   Age                2966 non-null   int64 \n",
            " 1   Gender             2966 non-null   object\n",
            " 2   Stream             2966 non-null   object\n",
            " 3   Internships        2966 non-null   int64 \n",
            " 4   CGPA               2966 non-null   int64 \n",
            " 5   Hostel             2966 non-null   int64 \n",
            " 6   HistoryOfBacklogs  2966 non-null   int64 \n",
            " 7   PlacedOrNot        2966 non-null   int64 \n",
            "dtypes: int64(6), object(2)\n",
            "memory usage: 185.5+ KB\n"
          ]
        }
      ]
    },
    {
      "cell_type": "code",
      "metadata": {
        "colab": {
          "base_uri": "https://localhost:8080/",
          "height": 297
        },
        "id": "ZJnX5sffR4-m",
        "outputId": "5798a187-df42-406d-8f4b-dc627bc4ffe7"
      },
      "source": [
        "cp.describe()"
      ],
      "execution_count": 5,
      "outputs": [
        {
          "output_type": "execute_result",
          "data": {
            "text/html": [
              "<div>\n",
              "<style scoped>\n",
              "    .dataframe tbody tr th:only-of-type {\n",
              "        vertical-align: middle;\n",
              "    }\n",
              "\n",
              "    .dataframe tbody tr th {\n",
              "        vertical-align: top;\n",
              "    }\n",
              "\n",
              "    .dataframe thead th {\n",
              "        text-align: right;\n",
              "    }\n",
              "</style>\n",
              "<table border=\"1\" class=\"dataframe\">\n",
              "  <thead>\n",
              "    <tr style=\"text-align: right;\">\n",
              "      <th></th>\n",
              "      <th>Age</th>\n",
              "      <th>Internships</th>\n",
              "      <th>CGPA</th>\n",
              "      <th>Hostel</th>\n",
              "      <th>HistoryOfBacklogs</th>\n",
              "      <th>PlacedOrNot</th>\n",
              "    </tr>\n",
              "  </thead>\n",
              "  <tbody>\n",
              "    <tr>\n",
              "      <th>count</th>\n",
              "      <td>2966.000000</td>\n",
              "      <td>2966.000000</td>\n",
              "      <td>2966.000000</td>\n",
              "      <td>2966.000000</td>\n",
              "      <td>2966.000000</td>\n",
              "      <td>2966.000000</td>\n",
              "    </tr>\n",
              "    <tr>\n",
              "      <th>mean</th>\n",
              "      <td>21.485840</td>\n",
              "      <td>0.703641</td>\n",
              "      <td>7.073837</td>\n",
              "      <td>0.269049</td>\n",
              "      <td>0.192178</td>\n",
              "      <td>0.552596</td>\n",
              "    </tr>\n",
              "    <tr>\n",
              "      <th>std</th>\n",
              "      <td>1.324933</td>\n",
              "      <td>0.740197</td>\n",
              "      <td>0.967748</td>\n",
              "      <td>0.443540</td>\n",
              "      <td>0.394079</td>\n",
              "      <td>0.497310</td>\n",
              "    </tr>\n",
              "    <tr>\n",
              "      <th>min</th>\n",
              "      <td>19.000000</td>\n",
              "      <td>0.000000</td>\n",
              "      <td>5.000000</td>\n",
              "      <td>0.000000</td>\n",
              "      <td>0.000000</td>\n",
              "      <td>0.000000</td>\n",
              "    </tr>\n",
              "    <tr>\n",
              "      <th>25%</th>\n",
              "      <td>21.000000</td>\n",
              "      <td>0.000000</td>\n",
              "      <td>6.000000</td>\n",
              "      <td>0.000000</td>\n",
              "      <td>0.000000</td>\n",
              "      <td>0.000000</td>\n",
              "    </tr>\n",
              "    <tr>\n",
              "      <th>50%</th>\n",
              "      <td>21.000000</td>\n",
              "      <td>1.000000</td>\n",
              "      <td>7.000000</td>\n",
              "      <td>0.000000</td>\n",
              "      <td>0.000000</td>\n",
              "      <td>1.000000</td>\n",
              "    </tr>\n",
              "    <tr>\n",
              "      <th>75%</th>\n",
              "      <td>22.000000</td>\n",
              "      <td>1.000000</td>\n",
              "      <td>8.000000</td>\n",
              "      <td>1.000000</td>\n",
              "      <td>0.000000</td>\n",
              "      <td>1.000000</td>\n",
              "    </tr>\n",
              "    <tr>\n",
              "      <th>max</th>\n",
              "      <td>30.000000</td>\n",
              "      <td>3.000000</td>\n",
              "      <td>9.000000</td>\n",
              "      <td>1.000000</td>\n",
              "      <td>1.000000</td>\n",
              "      <td>1.000000</td>\n",
              "    </tr>\n",
              "  </tbody>\n",
              "</table>\n",
              "</div>"
            ],
            "text/plain": [
              "               Age  Internships  ...  HistoryOfBacklogs  PlacedOrNot\n",
              "count  2966.000000  2966.000000  ...        2966.000000  2966.000000\n",
              "mean     21.485840     0.703641  ...           0.192178     0.552596\n",
              "std       1.324933     0.740197  ...           0.394079     0.497310\n",
              "min      19.000000     0.000000  ...           0.000000     0.000000\n",
              "25%      21.000000     0.000000  ...           0.000000     0.000000\n",
              "50%      21.000000     1.000000  ...           0.000000     1.000000\n",
              "75%      22.000000     1.000000  ...           0.000000     1.000000\n",
              "max      30.000000     3.000000  ...           1.000000     1.000000\n",
              "\n",
              "[8 rows x 6 columns]"
            ]
          },
          "metadata": {},
          "execution_count": 5
        }
      ]
    },
    {
      "cell_type": "code",
      "metadata": {
        "colab": {
          "base_uri": "https://localhost:8080/",
          "height": 173
        },
        "id": "l-5WZqOxSAir",
        "outputId": "2eb86e6a-0624-434a-e67d-a2c0b11d4cde"
      },
      "source": [
        "cp.describe(include='O')                #object type column"
      ],
      "execution_count": 6,
      "outputs": [
        {
          "output_type": "execute_result",
          "data": {
            "text/html": [
              "<div>\n",
              "<style scoped>\n",
              "    .dataframe tbody tr th:only-of-type {\n",
              "        vertical-align: middle;\n",
              "    }\n",
              "\n",
              "    .dataframe tbody tr th {\n",
              "        vertical-align: top;\n",
              "    }\n",
              "\n",
              "    .dataframe thead th {\n",
              "        text-align: right;\n",
              "    }\n",
              "</style>\n",
              "<table border=\"1\" class=\"dataframe\">\n",
              "  <thead>\n",
              "    <tr style=\"text-align: right;\">\n",
              "      <th></th>\n",
              "      <th>Gender</th>\n",
              "      <th>Stream</th>\n",
              "    </tr>\n",
              "  </thead>\n",
              "  <tbody>\n",
              "    <tr>\n",
              "      <th>count</th>\n",
              "      <td>2966</td>\n",
              "      <td>2966</td>\n",
              "    </tr>\n",
              "    <tr>\n",
              "      <th>unique</th>\n",
              "      <td>2</td>\n",
              "      <td>6</td>\n",
              "    </tr>\n",
              "    <tr>\n",
              "      <th>top</th>\n",
              "      <td>Male</td>\n",
              "      <td>Computer Science</td>\n",
              "    </tr>\n",
              "    <tr>\n",
              "      <th>freq</th>\n",
              "      <td>2475</td>\n",
              "      <td>776</td>\n",
              "    </tr>\n",
              "  </tbody>\n",
              "</table>\n",
              "</div>"
            ],
            "text/plain": [
              "       Gender            Stream\n",
              "count    2966              2966\n",
              "unique      2                 6\n",
              "top      Male  Computer Science\n",
              "freq     2475               776"
            ]
          },
          "metadata": {},
          "execution_count": 6
        }
      ]
    },
    {
      "cell_type": "code",
      "metadata": {
        "colab": {
          "base_uri": "https://localhost:8080/"
        },
        "id": "ZR33wPFxSCah",
        "outputId": "eac7d1ad-6966-4043-eb23-88b94f08c072"
      },
      "source": [
        "cp.nunique()"
      ],
      "execution_count": 7,
      "outputs": [
        {
          "output_type": "execute_result",
          "data": {
            "text/plain": [
              "Age                  11\n",
              "Gender                2\n",
              "Stream                6\n",
              "Internships           4\n",
              "CGPA                  5\n",
              "Hostel                2\n",
              "HistoryOfBacklogs     2\n",
              "PlacedOrNot           2\n",
              "dtype: int64"
            ]
          },
          "metadata": {},
          "execution_count": 7
        }
      ]
    },
    {
      "cell_type": "code",
      "metadata": {
        "colab": {
          "base_uri": "https://localhost:8080/"
        },
        "id": "WHOPb_DxnNhM",
        "outputId": "6f7801e1-c825-4d85-b36a-5dcf6fd16953"
      },
      "source": [
        "print(f\"Mean CGPA of Students {cp['CGPA'].mean()}\")\n",
        "print(f\"Min age is {cp['Age'].min()} and maximum age is {cp['Age'].max()}\")\n",
        "print(f\"Average age is {round(cp['Age'].mean())}\")"
      ],
      "execution_count": 81,
      "outputs": [
        {
          "output_type": "stream",
          "name": "stdout",
          "text": [
            "Mean CGPA of Students 7.073836817262306\n",
            "Min age is 19 and maximum age is 30\n",
            "Average age is 21\n"
          ]
        }
      ]
    },
    {
      "cell_type": "markdown",
      "metadata": {
        "id": "0F_qv9MPSKK4"
      },
      "source": [
        "**From the Data**\n",
        " - **Numeric Features**: Age, Internships, CGPA, Hostel, HistoryOfBacklogs, PlacedOrNot.\n",
        " - **Categorical  Features**: Gender, Stream"
      ]
    },
    {
      "cell_type": "markdown",
      "metadata": {
        "id": "5Flu-zxRSa73"
      },
      "source": [
        "# 1.Who have more backlog male or female?"
      ]
    },
    {
      "cell_type": "code",
      "metadata": {
        "colab": {
          "base_uri": "https://localhost:8080/"
        },
        "id": "Utx1G0gbTHKm",
        "outputId": "bc9def2c-ca66-4d70-de21-bed5a8e232ac"
      },
      "source": [
        "male=cp['Gender'].value_counts()['Male']\n",
        "female=len(cp)-male\n",
        "male,female"
      ],
      "execution_count": 9,
      "outputs": [
        {
          "output_type": "execute_result",
          "data": {
            "text/plain": [
              "(2475, 491)"
            ]
          },
          "metadata": {},
          "execution_count": 9
        }
      ]
    },
    {
      "cell_type": "code",
      "metadata": {
        "colab": {
          "base_uri": "https://localhost:8080/"
        },
        "id": "LHqJVQ9USDvh",
        "outputId": "cccd0c7e-a818-4d6d-e9a1-692b37096803"
      },
      "source": [
        "print(f\"Percentage of females getting backlog {round((len(cp.loc[(cp['Gender']=='Female') & (cp['HistoryOfBacklogs']>0)]))/female*100,2)}%\")\n",
        "print(f\"Percentage of males getting backlog {round((len(cp.loc[(cp['Gender']=='Male') & (cp['HistoryOfBacklogs']>0)]))/male*100,2)}%\")"
      ],
      "execution_count": 10,
      "outputs": [
        {
          "output_type": "stream",
          "name": "stdout",
          "text": [
            "Percentage of females getting backlog 16.9%\n",
            "Percentage of males getting backlog 19.68%\n"
          ]
        }
      ]
    },
    {
      "cell_type": "code",
      "metadata": {
        "colab": {
          "base_uri": "https://localhost:8080/",
          "height": 458
        },
        "id": "dQRsGGhjTB_l",
        "outputId": "ead8d4f0-7f6a-4289-ddd6-c26e38075afb"
      },
      "source": [
        "plt.figure(figsize=(5,7))\n",
        "plt.title('Backlogs and Gender')\n",
        "sns.barplot(x='Gender',y='HistoryOfBacklogs',data=cp)\n",
        "plt.show()"
      ],
      "execution_count": 13,
      "outputs": [
        {
          "output_type": "display_data",
          "data": {
            "image/png": "[encoded data removed]",
            "text/plain": [
              "<Figure size 360x504 with 1 Axes>"
            ]
          },
          "metadata": {
            "needs_background": "light"
          }
        }
      ]
    },
    {
      "cell_type": "markdown",
      "metadata": {
        "id": "YOmoE6A8UHso"
      },
      "source": [
        "# 2.Who have done more internship male or female?"
      ]
    },
    {
      "cell_type": "code",
      "metadata": {
        "colab": {
          "base_uri": "https://localhost:8080/"
        },
        "id": "xpFdiHmuTL4C",
        "outputId": "4a0a2180-ce09-410c-f737-87cd4fff97e6"
      },
      "source": [
        "print(f\"Percentage of females getting internships {round((len(cp.loc[(cp['Gender']=='Female') & (cp['Internships']>0)]))/female*100,2)}%\")\n",
        "print(f\"Percentage of males getting internships {round((len(cp.loc[(cp['Gender']=='Male') & (cp['Internships']>0)]))/male*100,2)}%\")"
      ],
      "execution_count": 14,
      "outputs": [
        {
          "output_type": "stream",
          "name": "stdout",
          "text": [
            "Percentage of females getting internships 67.41%\n",
            "Percentage of males getting internships 52.69%\n"
          ]
        }
      ]
    },
    {
      "cell_type": "code",
      "metadata": {
        "colab": {
          "base_uri": "https://localhost:8080/",
          "height": 458
        },
        "id": "7L4A1J5OULho",
        "outputId": "bf071b5d-d487-4d1e-d068-e7641fba39e4"
      },
      "source": [
        "plt.figure(figsize=(5,7))\n",
        "plt.title('Internships and Gender')\n",
        "sns.barplot(x='Gender',y='Internships',data=cp)\n",
        "plt.show()"
      ],
      "execution_count": 15,
      "outputs": [
        {
          "output_type": "display_data",
          "data": {
            "image/png": "[encoded data removed]",
            "text/plain": [
              "<Figure size 360x504 with 1 Axes>"
            ]
          },
          "metadata": {
            "needs_background": "light"
          }
        }
      ]
    },
    {
      "cell_type": "markdown",
      "metadata": {
        "id": "jALHNdWRUtey"
      },
      "source": [
        "# 3.Median age of students getting placed?"
      ]
    },
    {
      "cell_type": "code",
      "metadata": {
        "colab": {
          "base_uri": "https://localhost:8080/"
        },
        "id": "eq34UeozUSLq",
        "outputId": "320af064-a82c-4b6f-d376-a3d8c1727945"
      },
      "source": [
        "print(cp.groupby('Stream')['Age'].median(),'\\n\\n')\n",
        "print(cp.groupby('Internships')['Age'].median(),'\\n\\n')\n",
        "print(cp.groupby('Hostel')['Age'].median(),'\\n\\n')\n",
        "print(cp.groupby('HistoryOfBacklogs')['Age'].median(),'\\n\\n')\n",
        "print(cp.groupby('PlacedOrNot')['Age'].median(),'\\n\\n')"
      ],
      "execution_count": 16,
      "outputs": [
        {
          "output_type": "stream",
          "name": "stdout",
          "text": [
            "Stream\n",
            "Civil                            21\n",
            "Computer Science                 21\n",
            "Electrical                       21\n",
            "Electronics And Communication    21\n",
            "Information Technology           21\n",
            "Mechanical                       21\n",
            "Name: Age, dtype: int64 \n",
            "\n",
            "\n",
            "Internships\n",
            "0    21\n",
            "1    21\n",
            "2    21\n",
            "3    21\n",
            "Name: Age, dtype: int64 \n",
            "\n",
            "\n",
            "Hostel\n",
            "0    21\n",
            "1    21\n",
            "Name: Age, dtype: int64 \n",
            "\n",
            "\n",
            "HistoryOfBacklogs\n",
            "0    21\n",
            "1    21\n",
            "Name: Age, dtype: int64 \n",
            "\n",
            "\n",
            "PlacedOrNot\n",
            "0    21\n",
            "1    21\n",
            "Name: Age, dtype: int64 \n",
            "\n",
            "\n"
          ]
        }
      ]
    },
    {
      "cell_type": "code",
      "metadata": {
        "colab": {
          "base_uri": "https://localhost:8080/"
        },
        "id": "tOu4vwbMVIzQ",
        "outputId": "d51789a0-6068-4ae6-9467-e9afa40d24de"
      },
      "source": [
        "print(f\"Median age of students getting Placed is {cp.loc[cp['PlacedOrNot']==1]['Age'].median()}\")"
      ],
      "execution_count": 17,
      "outputs": [
        {
          "output_type": "stream",
          "name": "stdout",
          "text": [
            "Median age of students getting Placed is 21.0\n"
          ]
        }
      ]
    },
    {
      "cell_type": "code",
      "metadata": {
        "colab": {
          "base_uri": "https://localhost:8080/",
          "height": 333
        },
        "id": "f8ujRX53VMeH",
        "outputId": "28d53880-3da6-4454-869d-e902c3cccee3"
      },
      "source": [
        "sns.distplot(cp['Age'],bins=12)  #Show a default plot with a kernel density estimate and histogram\n",
        "plt.show()"
      ],
      "execution_count": 21,
      "outputs": [
        {
          "output_type": "stream",
          "name": "stderr",
          "text": [
            "/usr/local/lib/python3.7/dist-packages/seaborn/distributions.py:2619: FutureWarning: `distplot` is a deprecated function and will be removed in a future version. Please adapt your code to use either `displot` (a figure-level function with similar flexibility) or `histplot` (an axes-level function for histograms).\n",
            "  warnings.warn(msg, FutureWarning)\n"
          ]
        },
        {
          "output_type": "display_data",
          "data": {
            "image/png": "[encoded data removed]",
            "text/plain": [
              "<Figure size 432x288 with 1 Axes>"
            ]
          },
          "metadata": {
            "needs_background": "light"
          }
        }
      ]
    },
    {
      "cell_type": "markdown",
      "metadata": {
        "id": "EAPhxe_JVwiM"
      },
      "source": [
        "# 4.Who have better chance of getting placed hostilities or day scholars?"
      ]
    },
    {
      "cell_type": "code",
      "metadata": {
        "colab": {
          "base_uri": "https://localhost:8080/"
        },
        "id": "x3NBF5hEVR8R",
        "outputId": "a36ff29a-f7cb-44de-96d2-c49b9e727847"
      },
      "source": [
        "hosteler=cp['Hostel'].value_counts()[1]\n",
        "day_scholars=len(cp)-hosteler\n",
        "day_scholars,hosteler"
      ],
      "execution_count": 22,
      "outputs": [
        {
          "output_type": "execute_result",
          "data": {
            "text/plain": [
              "(2168, 798)"
            ]
          },
          "metadata": {},
          "execution_count": 22
        }
      ]
    },
    {
      "cell_type": "code",
      "metadata": {
        "colab": {
          "base_uri": "https://localhost:8080/"
        },
        "id": "5Z5Kk0GRWF_x",
        "outputId": "bdaebeae-a400-4687-e4f0-0e504a6167ba"
      },
      "source": [
        "print(f\"Percentage of Hostelers getting placed {round((len(cp.loc[(cp['PlacedOrNot']==1) & (cp['Hostel']>0)]))/hosteler*100,2)}%\")\n",
        "print(f\"Percentage of day scholars getting placed {round((len(cp.loc[(cp['PlacedOrNot']==1) & (cp['Hostel']==0)]))/day_scholars*100,2)}%\")"
      ],
      "execution_count": 24,
      "outputs": [
        {
          "output_type": "stream",
          "name": "stdout",
          "text": [
            "Percentage of Hostelers getting placed 52.13%\n",
            "Percentage of day scholars getting placed 56.41%\n"
          ]
        }
      ]
    },
    {
      "cell_type": "code",
      "metadata": {
        "colab": {
          "base_uri": "https://localhost:8080/",
          "height": 442
        },
        "id": "_kYm6WXlWIJk",
        "outputId": "837843f1-fedb-4805-b9a9-c5ac8da14df3"
      },
      "source": [
        "plt.figure(figsize=(5,7))\n",
        "sns.barplot(x='Hostel',y='PlacedOrNot',data=cp)\n",
        "plt.show()"
      ],
      "execution_count": 41,
      "outputs": [
        {
          "output_type": "display_data",
          "data": {
            "image/png": "[encoded data removed]",
            "text/plain": [
              "<Figure size 360x504 with 1 Axes>"
            ]
          },
          "metadata": {
            "needs_background": "light"
          }
        }
      ]
    },
    {
      "cell_type": "markdown",
      "metadata": {
        "id": "3VLzuv-mYM-1"
      },
      "source": [
        "# 5.Which branch have higher chance of placement?"
      ]
    },
    {
      "cell_type": "code",
      "metadata": {
        "colab": {
          "base_uri": "https://localhost:8080/"
        },
        "id": "8n9V0sK8Wkg1",
        "outputId": "77e2b8e0-49f0-4ec0-89d2-77d3b5fd825d"
      },
      "source": [
        "print(f\"Percentage of CS student getting placed {round((cp.loc[cp['PlacedOrNot']==1]['Stream'].value_counts()['Computer Science'])/cp['Stream'].value_counts()['Computer Science']*100,2)}%\")\n",
        "print(f\"Percentage of IT student getting placed {round((cp.loc[cp['PlacedOrNot']==1]['Stream'].value_counts()['Information Technology'])/cp['Stream'].value_counts()['Information Technology']*100,2)}%\")\n",
        "print(f\"Percentage of ECE student getting placed {round((cp.loc[cp['PlacedOrNot']==1]['Stream'].value_counts()['Electronics And Communication'])/cp['Stream'].value_counts()['Electronics And Communication']*100,2)}%\")\n",
        "print(f\"Percentage of mechanical student getting placed {round((cp.loc[cp['PlacedOrNot']==1]['Stream'].value_counts()['Mechanical'])/cp['Stream'].value_counts()['Mechanical']*100,2)}%\")\n",
        "print(f\"Percentage of electrical student getting placed {round((cp.loc[cp['PlacedOrNot']==1]['Stream'].value_counts()['Electrical'])/cp['Stream'].value_counts()['Electrical']*100,2)}%\")\n",
        "print(f\"Percentage of civil student getting placed {round((cp.loc[cp['PlacedOrNot']==1]['Stream'].value_counts()['Civil'])/cp['Stream'].value_counts()['Civil']*100,2)}%\")"
      ],
      "execution_count": 42,
      "outputs": [
        {
          "output_type": "stream",
          "name": "stdout",
          "text": [
            "Percentage of CS student getting placed 58.25%\n",
            "Percentage of IT student getting placed 59.19%\n",
            "Percentage of ECE student getting placed 59.2%\n",
            "Percentage of mechanical student getting placed 47.17%\n",
            "Percentage of electrical student getting placed 54.19%\n",
            "Percentage of civil student getting placed 46.06%\n"
          ]
        }
      ]
    },
    {
      "cell_type": "code",
      "metadata": {
        "colab": {
          "base_uri": "https://localhost:8080/",
          "height": 442
        },
        "id": "xpCeyQFeYdv0",
        "outputId": "9947d66e-1dd0-4867-fd49-cdb07c20e9de"
      },
      "source": [
        "plt.figure(figsize=(10,7))\n",
        "sns.barplot(y='Stream',x='PlacedOrNot',data=cp)\n",
        "plt.show()"
      ],
      "execution_count": 44,
      "outputs": [
        {
          "output_type": "display_data",
          "data": {
            "image/png": "[encoded data removed]",
            "text/plain": [
              "<Figure size 720x504 with 1 Axes>"
            ]
          },
          "metadata": {
            "needs_background": "light"
          }
        }
      ]
    },
    {
      "cell_type": "markdown",
      "metadata": {
        "id": "zUuOxQAcY3CG"
      },
      "source": [
        "# 6.Who have more tendency to live in hostels?"
      ]
    },
    {
      "cell_type": "code",
      "metadata": {
        "colab": {
          "base_uri": "https://localhost:8080/"
        },
        "id": "LdHGZ7rkYoZq",
        "outputId": "46a20dbb-1826-4476-c001-f5652232fa05"
      },
      "source": [
        "print(f\"Percentage of females residing in hostels {round((len(cp.loc[(cp['Gender']=='Female') & (cp['Hostel']>0)]))/female*100,2)}%\")\n",
        "print(f\"Percentage of males residing in hostels {round((len(cp.loc[(cp['Gender']=='Male') & (cp['Hostel']>0)]))/male*100,2)}%\")"
      ],
      "execution_count": 45,
      "outputs": [
        {
          "output_type": "stream",
          "name": "stdout",
          "text": [
            "Percentage of females residing in hostels 46.84%\n",
            "Percentage of males residing in hostels 22.95%\n"
          ]
        }
      ]
    },
    {
      "cell_type": "code",
      "metadata": {
        "colab": {
          "base_uri": "https://localhost:8080/",
          "height": 458
        },
        "id": "ualntEgZZGAN",
        "outputId": "b74627d2-df46-4c49-8d7f-87bc7e6e4c7e"
      },
      "source": [
        "plt.figure(figsize=(5,7))\n",
        "plt.title('Hostel and Gender')\n",
        "sns.barplot(x='Gender',y='Hostel',data=cp)\n",
        "plt.show()"
      ],
      "execution_count": 46,
      "outputs": [
        {
          "output_type": "display_data",
          "data": {
            "image/png": "[encoded data removed]",
            "text/plain": [
              "<Figure size 360x504 with 1 Axes>"
            ]
          },
          "metadata": {
            "needs_background": "light"
          }
        }
      ]
    },
    {
      "cell_type": "markdown",
      "metadata": {
        "id": "D_rX5rC1ZeRb"
      },
      "source": [
        "# 7.No. of students getting placed,getting internship,getting backlog,residing in hostels"
      ]
    },
    {
      "cell_type": "code",
      "metadata": {
        "colab": {
          "base_uri": "https://localhost:8080/",
          "height": 714
        },
        "id": "v_bg5xW5Zd2U",
        "outputId": "393c4f4b-63b2-4197-f0af-63ee57849678"
      },
      "source": [
        "plt.subplots(2,2,figsize=(14,12))\n",
        "\n",
        "plt.subplot(221)\n",
        "sns.countplot(data=cp, x='Hostel',palette='Accent')\n",
        "\n",
        "plt.subplot(222)\n",
        "sns.countplot(data=cp, x='PlacedOrNot')\n",
        "\n",
        "plt.subplot(223)\n",
        "sns.countplot(data=cp, x='HistoryOfBacklogs',palette='Dark2')\n",
        "\n",
        "plt.subplot(224)\n",
        "sns.countplot(data=cp, x='Internships',palette='Set1')\n",
        "plt.show()"
      ],
      "execution_count": 47,
      "outputs": [
        {
          "output_type": "display_data",
          "data": {
            "image/png": "[encoded data removed]",
            "text/plain": [
              "<Figure size 1008x864 with 4 Axes>"
            ]
          },
          "metadata": {
            "needs_background": "light"
          }
        }
      ]
    },
    {
      "cell_type": "code",
      "metadata": {
        "colab": {
          "base_uri": "https://localhost:8080/"
        },
        "id": "wqpdv3L5ZTQD",
        "outputId": "48885e45-1e20-46fe-b031-9c9a1d1ddba5"
      },
      "source": [
        "print(f\"Percentage of students residing in hostel {round(((cp['Hostel'].value_counts()[1])/(len(cp['Hostel']))*100),2)}%\")\n",
        "print(f\"Percentage of students Placed {round(((cp['PlacedOrNot'].value_counts()[1])/(len(cp['PlacedOrNot']))*100),2)}%\")\n",
        "print(f\"Percentage of students with backlog history {round(((cp['HistoryOfBacklogs'].value_counts()[1])/(len(cp['HistoryOfBacklogs']))*100),2)}%\")\n",
        "print(f\"Percentage of Students of who haven't done any internship {round(((cp['Internships'].value_counts()[0])/(len(cp['Internships']))*100),2)}\")"
      ],
      "execution_count": 48,
      "outputs": [
        {
          "output_type": "stream",
          "name": "stdout",
          "text": [
            "Percentage of students residing in hostel 26.9%\n",
            "Percentage of students Placed 55.26%\n",
            "Percentage of students with backlog history 19.22%\n",
            "Percentage of Students of who haven't done any internship 44.88\n"
          ]
        }
      ]
    },
    {
      "cell_type": "markdown",
      "metadata": {
        "id": "s5TNEN8lavVd"
      },
      "source": [
        "# 8.No. of students in each stream\n"
      ]
    },
    {
      "cell_type": "code",
      "metadata": {
        "colab": {
          "base_uri": "https://localhost:8080/"
        },
        "id": "fBaoOe0qakmu",
        "outputId": "4268a749-7fa8-47e2-844e-fa5f160674e2"
      },
      "source": [
        "cp['Stream'].value_counts()"
      ],
      "execution_count": 49,
      "outputs": [
        {
          "output_type": "execute_result",
          "data": {
            "text/plain": [
              "Computer Science                 776\n",
              "Information Technology           691\n",
              "Mechanical                       424\n",
              "Electronics And Communication    424\n",
              "Electrical                       334\n",
              "Civil                            317\n",
              "Name: Stream, dtype: int64"
            ]
          },
          "metadata": {},
          "execution_count": 49
        }
      ]
    },
    {
      "cell_type": "code",
      "metadata": {
        "colab": {
          "base_uri": "https://localhost:8080/",
          "height": 334
        },
        "id": "rQnxD5kEa0wz",
        "outputId": "0a11f5c8-4691-420a-8571-67dbeeb2af63"
      },
      "source": [
        "plt.figure(figsize=(7,5))\n",
        "sns.countplot(data=cp, y='Stream')\n",
        "plt.show()"
      ],
      "execution_count": 52,
      "outputs": [
        {
          "output_type": "display_data",
          "data": {
            "image/png": "[encoded data removed]",
            "text/plain": [
              "<Figure size 504x360 with 1 Axes>"
            ]
          },
          "metadata": {
            "needs_background": "light"
          }
        }
      ]
    },
    {
      "cell_type": "markdown",
      "metadata": {
        "id": "lLDI3IT6bhou"
      },
      "source": [
        "# 9. Correlation between features"
      ]
    },
    {
      "cell_type": "code",
      "metadata": {
        "colab": {
          "base_uri": "https://localhost:8080/",
          "height": 235
        },
        "id": "c7hi1oFcbvTM",
        "outputId": "ee53fcd0-3c1a-45ab-8083-f5c2fb5ef485"
      },
      "source": [
        "cp.corr()"
      ],
      "execution_count": 54,
      "outputs": [
        {
          "output_type": "execute_result",
          "data": {
            "text/html": [
              "<div>\n",
              "<style scoped>\n",
              "    .dataframe tbody tr th:only-of-type {\n",
              "        vertical-align: middle;\n",
              "    }\n",
              "\n",
              "    .dataframe tbody tr th {\n",
              "        vertical-align: top;\n",
              "    }\n",
              "\n",
              "    .dataframe thead th {\n",
              "        text-align: right;\n",
              "    }\n",
              "</style>\n",
              "<table border=\"1\" class=\"dataframe\">\n",
              "  <thead>\n",
              "    <tr style=\"text-align: right;\">\n",
              "      <th></th>\n",
              "      <th>Age</th>\n",
              "      <th>Internships</th>\n",
              "      <th>CGPA</th>\n",
              "      <th>Hostel</th>\n",
              "      <th>HistoryOfBacklogs</th>\n",
              "      <th>PlacedOrNot</th>\n",
              "    </tr>\n",
              "  </thead>\n",
              "  <tbody>\n",
              "    <tr>\n",
              "      <th>Age</th>\n",
              "      <td>1.000000</td>\n",
              "      <td>0.006552</td>\n",
              "      <td>-0.119787</td>\n",
              "      <td>0.003042</td>\n",
              "      <td>-0.042586</td>\n",
              "      <td>0.046943</td>\n",
              "    </tr>\n",
              "    <tr>\n",
              "      <th>Internships</th>\n",
              "      <td>0.006552</td>\n",
              "      <td>1.000000</td>\n",
              "      <td>0.023496</td>\n",
              "      <td>0.004617</td>\n",
              "      <td>-0.015118</td>\n",
              "      <td>0.179334</td>\n",
              "    </tr>\n",
              "    <tr>\n",
              "      <th>CGPA</th>\n",
              "      <td>-0.119787</td>\n",
              "      <td>0.023496</td>\n",
              "      <td>1.000000</td>\n",
              "      <td>0.014991</td>\n",
              "      <td>0.002576</td>\n",
              "      <td>0.588648</td>\n",
              "    </tr>\n",
              "    <tr>\n",
              "      <th>Hostel</th>\n",
              "      <td>0.003042</td>\n",
              "      <td>0.004617</td>\n",
              "      <td>0.014991</td>\n",
              "      <td>1.000000</td>\n",
              "      <td>0.103506</td>\n",
              "      <td>-0.038182</td>\n",
              "    </tr>\n",
              "    <tr>\n",
              "      <th>HistoryOfBacklogs</th>\n",
              "      <td>-0.042586</td>\n",
              "      <td>-0.015118</td>\n",
              "      <td>0.002576</td>\n",
              "      <td>0.103506</td>\n",
              "      <td>1.000000</td>\n",
              "      <td>-0.022337</td>\n",
              "    </tr>\n",
              "    <tr>\n",
              "      <th>PlacedOrNot</th>\n",
              "      <td>0.046943</td>\n",
              "      <td>0.179334</td>\n",
              "      <td>0.588648</td>\n",
              "      <td>-0.038182</td>\n",
              "      <td>-0.022337</td>\n",
              "      <td>1.000000</td>\n",
              "    </tr>\n",
              "  </tbody>\n",
              "</table>\n",
              "</div>"
            ],
            "text/plain": [
              "                        Age  Internships  ...  HistoryOfBacklogs  PlacedOrNot\n",
              "Age                1.000000     0.006552  ...          -0.042586     0.046943\n",
              "Internships        0.006552     1.000000  ...          -0.015118     0.179334\n",
              "CGPA              -0.119787     0.023496  ...           0.002576     0.588648\n",
              "Hostel             0.003042     0.004617  ...           0.103506    -0.038182\n",
              "HistoryOfBacklogs -0.042586    -0.015118  ...           1.000000    -0.022337\n",
              "PlacedOrNot        0.046943     0.179334  ...          -0.022337     1.000000\n",
              "\n",
              "[6 rows x 6 columns]"
            ]
          },
          "metadata": {},
          "execution_count": 54
        }
      ]
    },
    {
      "cell_type": "code",
      "metadata": {
        "colab": {
          "base_uri": "https://localhost:8080/",
          "height": 351
        },
        "id": "J2aHJ-7La5Bl",
        "outputId": "94e0ca7a-904e-479f-9e92-9d91762c823e"
      },
      "source": [
        "sns.heatmap(cp.corr())\n",
        "plt.show()"
      ],
      "execution_count": 53,
      "outputs": [
        {
          "output_type": "display_data",
          "data": {
            "image/png": "[encoded data removed]",
            "text/plain": [
              "<Figure size 432x288 with 2 Axes>"
            ]
          },
          "metadata": {
            "needs_background": "light"
          }
        }
      ]
    },
    {
      "cell_type": "markdown",
      "metadata": {
        "id": "YV4eqk-QcA75"
      },
      "source": [
        "# 10.Male female ratio in dataset"
      ]
    },
    {
      "cell_type": "code",
      "metadata": {
        "colab": {
          "base_uri": "https://localhost:8080/"
        },
        "id": "Gd0xD-lgcRKB",
        "outputId": "da9a4b14-c570-4ec3-fd5c-94b6f68e5a08"
      },
      "source": [
        "cp['Gender'].value_counts()"
      ],
      "execution_count": 56,
      "outputs": [
        {
          "output_type": "execute_result",
          "data": {
            "text/plain": [
              "Male      2475\n",
              "Female     491\n",
              "Name: Gender, dtype: int64"
            ]
          },
          "metadata": {},
          "execution_count": 56
        }
      ]
    },
    {
      "cell_type": "code",
      "metadata": {
        "colab": {
          "base_uri": "https://localhost:8080/",
          "height": 442
        },
        "id": "aD6fkFoJbuOj",
        "outputId": "accd8fe4-b001-401e-dded-f9117eea4c9a"
      },
      "source": [
        "plt.figure(figsize=(5,7))\n",
        "sns.countplot(data=cp, x='Gender',palette='Accent')\n",
        "plt.show()"
      ],
      "execution_count": 55,
      "outputs": [
        {
          "output_type": "display_data",
          "data": {
            "image/png": "[encoded data removed]",
            "text/plain": [
              "<Figure size 360x504 with 1 Axes>"
            ]
          },
          "metadata": {
            "needs_background": "light"
          }
        }
      ]
    },
    {
      "cell_type": "code",
      "metadata": {
        "colab": {
          "base_uri": "https://localhost:8080/"
        },
        "id": "ZTd8tlw1cOt1",
        "outputId": "00f37e3b-eb93-4644-8822-f828b6f01de6"
      },
      "source": [
        "print(f\"Percentage of Male in Students {round(cp['Gender'].value_counts()['Male']/len(cp['Gender'])*100,2)}%\")"
      ],
      "execution_count": 57,
      "outputs": [
        {
          "output_type": "stream",
          "name": "stdout",
          "text": [
            "Percentage of Male in Students 83.45%\n"
          ]
        }
      ]
    },
    {
      "cell_type": "markdown",
      "metadata": {
        "id": "muX6Yx3Gcecn"
      },
      "source": [
        "#Major Objectives#"
      ]
    },
    {
      "cell_type": "markdown",
      "metadata": {
        "id": "JiGBrwtSc0Sy"
      },
      "source": [
        "# 1.feautres with respect to Internship."
      ]
    },
    {
      "cell_type": "code",
      "metadata": {
        "colab": {
          "base_uri": "https://localhost:8080/"
        },
        "id": "w1GRBGhlcZE6",
        "outputId": "1cd2f460-b80e-4103-8b63-6871a93c40a7"
      },
      "source": [
        "print(f\"Percentage of candidates getting placed and previously done internships {round(len(cp.loc[(cp['PlacedOrNot']==1) & (cp['Internships']>0)])/cp['PlacedOrNot'].value_counts()[1]*100,2)}%\")\n",
        "print(f\"Percentage of candidates getting placed and haven't done internships {round(len(cp.loc[(cp['PlacedOrNot']==1) & (cp['Internships']==0)])/cp['PlacedOrNot'].value_counts()[1]*100,2)}%\")"
      ],
      "execution_count": 58,
      "outputs": [
        {
          "output_type": "stream",
          "name": "stdout",
          "text": [
            "Percentage of candidates getting placed and previously done internships 60.1%\n",
            "Percentage of candidates getting placed and haven't done internships 39.9%\n"
          ]
        }
      ]
    },
    {
      "cell_type": "code",
      "metadata": {
        "colab": {
          "base_uri": "https://localhost:8080/",
          "height": 279
        },
        "id": "LM1wS3iFdYDz",
        "outputId": "e130b403-76cd-4c9e-9ca0-c4044943791b"
      },
      "source": [
        "plt.figure(figsize=(8,4))\n",
        "sns.barplot(x='Hostel',y='Internships',data=cp,hue='Gender')\n",
        "plt.show()"
      ],
      "execution_count": 59,
      "outputs": [
        {
          "output_type": "display_data",
          "data": {
            "image/png": "[encoded data removed]",
            "text/plain": [
              "<Figure size 576x288 with 1 Axes>"
            ]
          },
          "metadata": {
            "needs_background": "light"
          }
        }
      ]
    },
    {
      "cell_type": "code",
      "metadata": {
        "colab": {
          "base_uri": "https://localhost:8080/",
          "height": 279
        },
        "id": "bIPEWV1Pds5c",
        "outputId": "464a4500-0fd6-4646-b19b-6533501d7900"
      },
      "source": [
        "sns.barplot(data=cp,x='Internships',y='PlacedOrNot',hue='Gender')\n",
        "plt.show()"
      ],
      "execution_count": 60,
      "outputs": [
        {
          "output_type": "display_data",
          "data": {
            "image/png": "[encoded data removed]",
            "text/plain": [
              "<Figure size 432x288 with 1 Axes>"
            ]
          },
          "metadata": {
            "needs_background": "light"
          }
        }
      ]
    },
    {
      "cell_type": "markdown",
      "metadata": {
        "id": "5z_HQVq7eBf4"
      },
      "source": [
        "# 2.feautres with respect to stream"
      ]
    },
    {
      "cell_type": "code",
      "metadata": {
        "colab": {
          "base_uri": "https://localhost:8080/"
        },
        "id": "pf_GLib-dwd-",
        "outputId": "e0d5100d-ee2a-4345-aaa5-1d0bafbb94c7"
      },
      "source": [
        "cp.loc[cp['PlacedOrNot']==1]['Stream'].value_counts()          #NO. of student getting placed according to stream"
      ],
      "execution_count": 61,
      "outputs": [
        {
          "output_type": "execute_result",
          "data": {
            "text/plain": [
              "Computer Science                 452\n",
              "Information Technology           409\n",
              "Electronics And Communication    251\n",
              "Mechanical                       200\n",
              "Electrical                       181\n",
              "Civil                            146\n",
              "Name: Stream, dtype: int64"
            ]
          },
          "metadata": {},
          "execution_count": 61
        }
      ]
    },
    {
      "cell_type": "code",
      "metadata": {
        "colab": {
          "base_uri": "https://localhost:8080/",
          "height": 873
        },
        "id": "jbIw3zFMeTIx",
        "outputId": "5662e04b-644c-4dca-cef6-bd05711cd4e8"
      },
      "source": [
        "plt.subplots(3,2,figsize=(14,12))\n",
        "\n",
        "plt.subplot(321)\n",
        "sns.barplot(y='Stream',x='Age',data=cp,estimator=np.median)\n",
        "\n",
        "plt.subplot(322)\n",
        "sns.barplot(y='Stream',x='Internships',data=cp,estimator=np.median)\n",
        "\n",
        "plt.subplot(323)\n",
        "sns.boxplot(y='Stream',x='CGPA',data=cp)\n",
        "\n",
        "plt.subplot(324)\n",
        "sns.barplot(y='Stream',x='Hostel',data=cp)\n",
        "\n",
        "plt.subplot(325)\n",
        "sns.barplot(y='Stream',x='HistoryOfBacklogs',data=cp)\n",
        "\n",
        "plt.subplot(326)\n",
        "sns.barplot(y='Stream',x='PlacedOrNot',data=cp)\n",
        "\n",
        "plt.tight_layout()                               # to adjust the padding between the subplots\n",
        "plt.show()"
      ],
      "execution_count": 63,
      "outputs": [
        {
          "output_type": "display_data",
          "data": {
            "image/png": "[encoded data removed]",
            "text/plain": [
              "<Figure size 1008x864 with 6 Axes>"
            ]
          },
          "metadata": {
            "needs_background": "light"
          }
        }
      ]
    },
    {
      "cell_type": "markdown",
      "metadata": {
        "id": "aq7rW7pEfAJx"
      },
      "source": [
        "# 3.Feautres with respect to backlog"
      ]
    },
    {
      "cell_type": "code",
      "metadata": {
        "colab": {
          "base_uri": "https://localhost:8080/",
          "height": 279
        },
        "id": "Ypz1dnLseenm",
        "outputId": "35d76864-7512-4501-c8bf-24f01957cd3d"
      },
      "source": [
        "# backlog with respect to gender\n",
        "plt.figure(figsize=(8,4))\n",
        "sns.barplot(x='HistoryOfBacklogs',y='PlacedOrNot',data=cp,hue='Gender',estimator=np.mean)\n",
        "plt.show()"
      ],
      "execution_count": 66,
      "outputs": [
        {
          "output_type": "display_data",
          "data": {
            "image/png": "[encoded data removed]",
            "text/plain": [
              "<Figure size 576x288 with 1 Axes>"
            ]
          },
          "metadata": {
            "needs_background": "light"
          }
        }
      ]
    },
    {
      "cell_type": "code",
      "metadata": {
        "colab": {
          "base_uri": "https://localhost:8080/"
        },
        "id": "xh5UEI4OfTn6",
        "outputId": "450c9434-dff6-4491-d9c3-61f64efdd41b"
      },
      "source": [
        "# getting placed with backlog or not\n",
        "df=cp.groupby('HistoryOfBacklogs')['PlacedOrNot'].mean()\n",
        "df"
      ],
      "execution_count": 67,
      "outputs": [
        {
          "output_type": "execute_result",
          "data": {
            "text/plain": [
              "HistoryOfBacklogs\n",
              "0    0.558013\n",
              "1    0.529825\n",
              "Name: PlacedOrNot, dtype: float64"
            ]
          },
          "metadata": {},
          "execution_count": 67
        }
      ]
    },
    {
      "cell_type": "markdown",
      "metadata": {
        "id": "uEqWGnPJgOBd"
      },
      "source": [
        "# 4.Feautres with respect to gender\n"
      ]
    },
    {
      "cell_type": "code",
      "metadata": {
        "colab": {
          "base_uri": "https://localhost:8080/",
          "height": 839
        },
        "id": "F6Gg37uFfhg-",
        "outputId": "c3ba06fe-9d49-4121-8557-93ef14d466dd"
      },
      "source": [
        "plt.subplots(2,3,figsize=(16,14))\n",
        "\n",
        "plt.subplot(231)\n",
        "plt.title('Age and Gender')\n",
        "sns.boxplot(y='Age',x='Gender',data=cp)                                               \n",
        "'''Draw a box plot to show distributions with respect to categories.\n",
        "A box plot shows the distribution of quantitative data in a way that facilitates comparisons between variables or across levels of a categorical variable.\n",
        "The box shows the quartiles of the dataset while the whiskers extend to show the rest of the distribution, \n",
        "except for points that are determined to be “outliers” using a method that is a function of the inter-quartile range.'''\n",
        "\n",
        "plt.subplot(232)\n",
        "plt.title('Internships and Gender')\n",
        "sns.barplot(x='Gender',y='Internships',data=cp)\n",
        "\n",
        "plt.subplot(233)\n",
        "plt.title('CGPA and Gender')\n",
        "sns.boxplot(x='Gender',y='CGPA',data=cp)\n",
        "\n",
        "plt.subplot(234)\n",
        "plt.title('Hostel and Gender')\n",
        "sns.barplot(x='Gender',y='Hostel',data=cp)\n",
        "\n",
        "plt.subplot(235)\n",
        "plt.title('Backlogs and Gender')\n",
        "sns.barplot(x='Gender',y='HistoryOfBacklogs',data=cp)\n",
        "\n",
        "plt.subplot(236)\n",
        "plt.title('Placements and Gender')\n",
        "sns.barplot(x='Gender',y='PlacedOrNot',data=cp)\n",
        "\n",
        "plt.show()"
      ],
      "execution_count": 68,
      "outputs": [
        {
          "output_type": "display_data",
          "data": {
            "image/png": "[encoded data removed]",
            "text/plain": [
              "<Figure size 1152x1008 with 6 Axes>"
            ]
          },
          "metadata": {
            "needs_background": "light"
          }
        }
      ]
    },
    {
      "cell_type": "markdown",
      "metadata": {
        "id": "_Kaw1YKghWbn"
      },
      "source": [
        "# CONCLUSIONS"
      ]
    },
    {
      "cell_type": "markdown",
      "metadata": {
        "id": "c_l7bwNrhm5l"
      },
      "source": [
        "1.\t**Who have more backlog male or female**\n",
        "* Percentage of females getting backlog 16.9%\n",
        "* Percentage of males getting backlog 19.68%\n",
        "* conclusion:Male candidates have more backlog than females\n",
        "2.\t**Who have done more internship male or female**\n",
        "* Percentage of females getting internships 67.41%\n",
        "* Percentage of males getting internships 52.69%\n",
        "* conclusion:Females have more tendency of getting internships\n",
        "3.\t**Median age of students getting placed**\n",
        "* Meadian age of candidates getting placed 21.0\n",
        "4.\t**Who have better chance of getting placed hostilities or day scholars**\n",
        "* Percentage of Hostlers getting placed 52.13%\n",
        "* Percentage of dayscholars getting placed 56.41%\n",
        "* conclusion:Day Scholars have slightly higher chance of getting placed\n",
        "5.\t**Which branch have higher chance of placement**\n",
        "* Percentage of CS student getting placed 58.25%\n",
        "* Percentage of IT student getting placed 59.19%\n",
        "* Percentage of ECE student getting placed 59.2%\n",
        "* Percentage of mechanical student getting placed 47.17%\n",
        "* Percentage of electrical student getting placed 54.19%\n",
        "* Percentage of civil student getting placed 46.06%\n",
        "* conclusion:Students from EC branch have the max chances of getting placed followed by IT by a narrow margin and then CS and then Electrical.\n",
        "6.\t**Who have more tendency to live in hostels**\n",
        "* Percentage of females residing in hostels 46.84%\n",
        "* Percentage of males residing in hostels 22.95%\n",
        "* conclusion:Females have more tendency to stay in hostel than males\n",
        "7.\t**count variation with feautres**\n",
        "* Nearly 50% of students haven't done any internship while among the rest majority of them have done atleast 1 internship and some have even done 3.\n",
        "* About 25% of the total students were residing in hostel.\n",
        "* Percentage of students residing in hostel 26.9%\n",
        "* Percentage of students Placed 55.26%\n",
        "* Percentage of students with backlog history 19.22%\n",
        "* Percentage of Students of who haven't done any internship 44.88\n",
        "8. **No. of students in each stream**\n",
        "* Computer Science                 776\n",
        "* Information Technology           691\n",
        "* Mechanical                       424\n",
        "* Electronics And Communication    424\n",
        "* Electrical                       334\n",
        "* Civil                            317\n",
        "* No. of students in IT branches are more than core branches\n",
        "9. ** Correaltion between feautres**\n",
        "* We can notice moderate amount of correlation between CGPA and Placements We can also see correaltion between Internships and placedOrNot\n",
        "10. **Male Feamle ratio in Dataset**\n",
        "* Male      2475\n",
        "* Female     491\n",
        "* No. of male is 5 times higher than that of females"
      ]
    },
    {
      "cell_type": "markdown",
      "metadata": {
        "id": "GP_1mzKjj1J4"
      },
      "source": [
        "# Major objectives conclusion"
      ]
    },
    {
      "cell_type": "markdown",
      "metadata": {
        "id": "3XTkDuIuj5vZ"
      },
      "source": [
        "1. **Feautres with respect to internship**\n",
        "* Percentage of candidates getting placed and previously done internships 60.1%\n",
        "* Percentage of candidates getting placed and haven't done internships 39.9%\n",
        "* If you have done more than 1 internship the chances of getting placed are actually good.\n",
        "* The chance of getting placed increases as number of Internships increases\n",
        "* Females do have a slight edge over Male in securing an internship irrespective of the CGPA\n",
        "* Regarding Internships, students from CS, IT & EC tend to have one internship than that of Mechanical, Electrical & Civil who have an average of 0.\n",
        "2. **Feauters with respect to stream**\n",
        "* No. of students getting placed from respective branches:\n",
        "* Computer Science                 452\n",
        "* Information Technology           409\n",
        "* Electronics And Communication    251\n",
        "* Mechanical                       200\n",
        "* Electrical                       181\n",
        "* Civil                            146\n",
        "* The median score of Studets irrespective of their branches is 7CGPA.\n",
        "* On an average the students of Mechanical have much higher tendency to settle in Hostel than that of the students from other branches.\n",
        "* Students from EC & Electrical branch have higher chances of getting a Backlog, followed by Mechanical while the IT and Civil being the least chances to get Backlogs.\n",
        "* Students from EC branch have the max chances of getting placed followed by IT by a narrow margin and then CS and then Electrical.\n",
        "3. **Feautres with respect to backlog**\n",
        "* HistoryOfBacklogs\n",
        "* 0    0.558013\n",
        "* 1    0.529825\n",
        "* There chances of getting placed with backlogs and without backlogs are approximately same\n",
        "4. **Feautres with respect to gender**\n",
        "* The median vaue of Internships by Female is quite higher than that of the Male one's.\n",
        "* Male as well as the Female candidates have same median value of 7CGPA.\n",
        "* Female have more tendency to stay in hostel than the Males.\n",
        "* On an average Male candidate has more backlogs then the Female ones.\n",
        "* With respect to Placements, the chances of Female candidate being placed is just a fraction more than that of the Male candidates."
      ]
    },
    {
      "cell_type": "markdown",
      "metadata": {
        "id": "wVP_5UgpmJKN"
      },
      "source": [
        "# ML MODEL"
      ]
    },
    {
      "cell_type": "code",
      "metadata": {
        "id": "BAUWtTtagZFp"
      },
      "source": [
        "from sklearn.linear_model import LogisticRegression\n",
        "from sklearn.ensemble import RandomForestClassifier\n",
        "from sklearn.tree import DecisionTreeClassifier\n",
        "from sklearn.naive_bayes import GaussianNB\n",
        "from sklearn.neighbors import KNeighborsClassifier\n",
        "from sklearn.model_selection import train_test_split\n",
        "from sklearn.preprocessing import LabelEncoder\n",
        "from sklearn.metrics import accuracy_score,mean_squared_error,confusion_matrix"
      ],
      "execution_count": 69,
      "outputs": []
    },
    {
      "cell_type": "code",
      "metadata": {
        "id": "xgVInu7umR9N"
      },
      "source": [
        "x=cp.drop(['PlacedOrNot'],axis=1)\n",
        "y=cp['PlacedOrNot']"
      ],
      "execution_count": 70,
      "outputs": []
    },
    {
      "cell_type": "code",
      "metadata": {
        "id": "G9Jr8ZZ1mTQn"
      },
      "source": [
        "le=LabelEncoder()\n",
        "x['Gender']=le.fit_transform(x['Gender'])\n",
        "x['Stream']=le.fit_transform(x['Stream'])"
      ],
      "execution_count": 71,
      "outputs": []
    },
    {
      "cell_type": "code",
      "metadata": {
        "colab": {
          "base_uri": "https://localhost:8080/",
          "height": 204
        },
        "id": "Pe5MUw0imUcP",
        "outputId": "87b97cc3-5692-488d-b6ff-955ffa5b8f92"
      },
      "source": [
        "x.head()"
      ],
      "execution_count": 72,
      "outputs": [
        {
          "output_type": "execute_result",
          "data": {
            "text/html": [
              "<div>\n",
              "<style scoped>\n",
              "    .dataframe tbody tr th:only-of-type {\n",
              "        vertical-align: middle;\n",
              "    }\n",
              "\n",
              "    .dataframe tbody tr th {\n",
              "        vertical-align: top;\n",
              "    }\n",
              "\n",
              "    .dataframe thead th {\n",
              "        text-align: right;\n",
              "    }\n",
              "</style>\n",
              "<table border=\"1\" class=\"dataframe\">\n",
              "  <thead>\n",
              "    <tr style=\"text-align: right;\">\n",
              "      <th></th>\n",
              "      <th>Age</th>\n",
              "      <th>Gender</th>\n",
              "      <th>Stream</th>\n",
              "      <th>Internships</th>\n",
              "      <th>CGPA</th>\n",
              "      <th>Hostel</th>\n",
              "      <th>HistoryOfBacklogs</th>\n",
              "    </tr>\n",
              "  </thead>\n",
              "  <tbody>\n",
              "    <tr>\n",
              "      <th>0</th>\n",
              "      <td>22</td>\n",
              "      <td>1</td>\n",
              "      <td>3</td>\n",
              "      <td>1</td>\n",
              "      <td>8</td>\n",
              "      <td>1</td>\n",
              "      <td>1</td>\n",
              "    </tr>\n",
              "    <tr>\n",
              "      <th>1</th>\n",
              "      <td>21</td>\n",
              "      <td>0</td>\n",
              "      <td>1</td>\n",
              "      <td>0</td>\n",
              "      <td>7</td>\n",
              "      <td>1</td>\n",
              "      <td>1</td>\n",
              "    </tr>\n",
              "    <tr>\n",
              "      <th>2</th>\n",
              "      <td>22</td>\n",
              "      <td>0</td>\n",
              "      <td>4</td>\n",
              "      <td>1</td>\n",
              "      <td>6</td>\n",
              "      <td>0</td>\n",
              "      <td>0</td>\n",
              "    </tr>\n",
              "    <tr>\n",
              "      <th>3</th>\n",
              "      <td>21</td>\n",
              "      <td>1</td>\n",
              "      <td>4</td>\n",
              "      <td>0</td>\n",
              "      <td>8</td>\n",
              "      <td>0</td>\n",
              "      <td>1</td>\n",
              "    </tr>\n",
              "    <tr>\n",
              "      <th>4</th>\n",
              "      <td>22</td>\n",
              "      <td>1</td>\n",
              "      <td>5</td>\n",
              "      <td>0</td>\n",
              "      <td>8</td>\n",
              "      <td>1</td>\n",
              "      <td>0</td>\n",
              "    </tr>\n",
              "  </tbody>\n",
              "</table>\n",
              "</div>"
            ],
            "text/plain": [
              "   Age  Gender  Stream  Internships  CGPA  Hostel  HistoryOfBacklogs\n",
              "0   22       1       3            1     8       1                  1\n",
              "1   21       0       1            0     7       1                  1\n",
              "2   22       0       4            1     6       0                  0\n",
              "3   21       1       4            0     8       0                  1\n",
              "4   22       1       5            0     8       1                  0"
            ]
          },
          "metadata": {},
          "execution_count": 72
        }
      ]
    },
    {
      "cell_type": "code",
      "metadata": {
        "id": "CYCHvmH_mZep"
      },
      "source": [
        "x_train,x_test,y_train,y_test=train_test_split(x,y,test_size=0.2,random_state=42)"
      ],
      "execution_count": 73,
      "outputs": []
    },
    {
      "cell_type": "code",
      "metadata": {
        "colab": {
          "base_uri": "https://localhost:8080/"
        },
        "id": "k1k5zAHomaw-",
        "outputId": "2aaae273-f1a8-41b8-aec6-756fc190e9e8"
      },
      "source": [
        "clf=DecisionTreeClassifier()\n",
        "clf.fit(x_train,y_train)"
      ],
      "execution_count": 74,
      "outputs": [
        {
          "output_type": "execute_result",
          "data": {
            "text/plain": [
              "DecisionTreeClassifier(ccp_alpha=0.0, class_weight=None, criterion='gini',\n",
              "                       max_depth=None, max_features=None, max_leaf_nodes=None,\n",
              "                       min_impurity_decrease=0.0, min_impurity_split=None,\n",
              "                       min_samples_leaf=1, min_samples_split=2,\n",
              "                       min_weight_fraction_leaf=0.0, presort='deprecated',\n",
              "                       random_state=None, splitter='best')"
            ]
          },
          "metadata": {},
          "execution_count": 74
        }
      ]
    },
    {
      "cell_type": "code",
      "metadata": {
        "id": "rqoCvaWLmc9P"
      },
      "source": [
        "pred=clf.predict(x_test)"
      ],
      "execution_count": 75,
      "outputs": []
    },
    {
      "cell_type": "code",
      "metadata": {
        "colab": {
          "base_uri": "https://localhost:8080/"
        },
        "id": "CMyy5nbPmegc",
        "outputId": "e6c62ef3-2be6-4e5a-a0d0-c13123175717"
      },
      "source": [
        "accuracy_score(y_test,pred)"
      ],
      "execution_count": 76,
      "outputs": [
        {
          "output_type": "execute_result",
          "data": {
            "text/plain": [
              "0.8821548821548821"
            ]
          },
          "metadata": {},
          "execution_count": 76
        }
      ]
    },
    {
      "cell_type": "code",
      "metadata": {
        "colab": {
          "base_uri": "https://localhost:8080/"
        },
        "id": "5tMEkzIZmkV7",
        "outputId": "bf0d623f-acbd-48f6-9eeb-2d7589f41f9e"
      },
      "source": [
        "mean_squared_error(y_test,pred)"
      ],
      "execution_count": 77,
      "outputs": [
        {
          "output_type": "execute_result",
          "data": {
            "text/plain": [
              "0.11784511784511785"
            ]
          },
          "metadata": {},
          "execution_count": 77
        }
      ]
    },
    {
      "cell_type": "code",
      "metadata": {
        "colab": {
          "base_uri": "https://localhost:8080/"
        },
        "id": "dL_qEZIrmmLE",
        "outputId": "3c4d3dc0-c921-4c82-ff09-3e10f33c49f1"
      },
      "source": [
        "confusion_matrix(y_test,pred)"
      ],
      "execution_count": 78,
      "outputs": [
        {
          "output_type": "execute_result",
          "data": {
            "text/plain": [
              "array([[262,  18],\n",
              "       [ 52, 262]])"
            ]
          },
          "metadata": {},
          "execution_count": 78
        }
      ]
    },
    {
      "cell_type": "markdown",
      "metadata": {
        "id": "tz-mrD8mmsSn"
      },
      "source": [
        "# Saving the model"
      ]
    },
    {
      "cell_type": "code",
      "metadata": {
        "id": "T160CUcnmnuA"
      },
      "source": [
        "import pickle\n",
        "pickle.dump(clf,open('/content/drive/MyDrive/Colab Notebooks/college_placements.sav','wb'))"
      ],
      "execution_count": 79,
      "outputs": []
    },
    {
      "cell_type": "code",
      "metadata": {
        "colab": {
          "base_uri": "https://localhost:8080/"
        },
        "id": "TaQXpE2YmzJ7",
        "outputId": "49db58a8-2aa6-4137-84a3-a7a849177ec2"
      },
      "source": [
        "model=pickle.load(open('/content/drive/MyDrive/Colab Notebooks/college_placements.sav','rb'))\n",
        "model.predict([[20,0,0,0,6,1,1]])"
      ],
      "execution_count": 80,
      "outputs": [
        {
          "output_type": "execute_result",
          "data": {
            "text/plain": [
              "array([0])"
            ]
          },
          "metadata": {},
          "execution_count": 80
        }
      ]
    },
    {
      "cell_type": "code",
      "metadata": {
        "id": "OxLxJx6Em0Q5"
      },
      "source": [
        "{'Computer Science':1,'Information Technology':4,'Mechanical':5,'Electronics And Communication':3,'Electrical':2,'Civil':0}\n",
        "{'Male':1,'Female':0}\n",
        "#DecisonTree=0.8804713804713805\n",
        "#RandomForest=0.8787878787878788\n",
        "#LogisticRegression=0.7222222222222222\n",
        "#Gaussian Naive bayes=0.7861952861952862\n",
        "#KNN =0.8737373737373737"
      ],
      "execution_count": null,
      "outputs": []
    }
  ]
}